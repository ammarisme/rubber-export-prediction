{
 "cells": [
  {
   "cell_type": "code",
   "execution_count": 49,
   "metadata": {},
   "outputs": [
    {
     "name": "stdout",
     "output_type": "stream",
     "text": [
      "       Month  SICOM_PRICE  PRICE_PERCENTAGE  EXPORT_VOLUME  NFTA_PRICE  \\\n",
      "0  Jan  2006         1.88              1190      211517824         621   \n",
      "1  Feb  2006         2.06               957      236499856         605   \n",
      "2  Mar  2006         2.07                49      229651712         560   \n",
      "3  Apr  2006         2.14               338      237565344         612   \n",
      "4  May  2006         2.45              1449      229750576         598   \n",
      "\n",
      "   NFTA_ADJ_SICOM  SICOM_ADJ_EXPOVOL  IDN_USD  IDN_USD_ADJ  \n",
      "0        1.035000          210560000   9370.0    187400000  \n",
      "1        1.008333          230720000   9182.5    183650000  \n",
      "2        0.933333          231840000   9087.0    181740000  \n",
      "3        1.020000          239680000   8785.0    175700000  \n",
      "4        0.996667          274400000   9255.0    185100000  \n"
     ]
    }
   ],
   "source": [
    "import numpy as np\n",
    "from sklearn.linear_model import LinearRegression\n",
    "import pandas as pd\n",
    "\n",
    "#Process data for modelling\n",
    "all_data = pd.read_csv('./MODEL.CSV')\n",
    "\n",
    "print(all_data.head())"
   ]
  },
  {
   "cell_type": "code",
   "execution_count": 52,
   "metadata": {},
   "outputs": [
    {
     "name": "stdout",
     "output_type": "stream",
     "text": [
      "SICOM_PRICE\n",
      "36.898806780228576\n",
      "36.898806780228576\n",
      "-------------------------\n",
      "PRICE_PERCENTAGE\n",
      "1.117488198599348\n",
      "1.117488198599348\n",
      "-------------------------\n",
      "EXPORT_VOLUME\n",
      "100.0\n",
      "100.0\n",
      "-------------------------\n",
      "NFTA_PRICE\n",
      "10.936189460056866\n",
      "10.936189460056866\n",
      "-------------------------\n",
      "NFTA_ADJ_SICOM\n",
      "10.936189459282343\n",
      "10.936189459282343\n",
      "-------------------------\n",
      "SICOM_ADJ_EXPOVOL\n",
      "36.89880678022859\n",
      "36.89880678022859\n",
      "-------------------------\n",
      "IDN_USD\n",
      "44.49354527220305\n",
      "44.49354527220305\n",
      "-------------------------\n",
      "IDN_USD_ADJ\n",
      "44.493545272203036\n",
      "44.493545272203036\n",
      "-------------------------\n"
     ]
    }
   ],
   "source": [
    "months = \n",
    "y = all_data['EXPORT_VOLUME'][:months].values\n",
    "\n",
    "def analyze(x):\n",
    "    model = LinearRegression()\n",
    "    model_fit = model.fit(np.array(x.values).reshape((-1,1)),y)\n",
    "    r_sq = model.score(np.array(x.values).reshape((-1,1)),y)\n",
    "    print(r_sq*100)\n",
    "\n",
    "for col in all_data.columns:\n",
    "    if(col == 'Month'):\n",
    "        continue\n",
    "    print(col)\n",
    "    analyze(all_data[col][:months])\n",
    "    analyze(all_data[col][:months])\n",
    "SICOM_PRICE\n",
    "PRICE_PERCENTAGE\n",
    "EXPORT_VOLUME\n",
    "NFTA_ADJ_SICOM\n",
    "SICOM_ADJ_EXPOVOL\n",
    "IDN_USD_ADJ\n"
   ]
  },
  {
   "cell_type": "code",
   "execution_count": null,
   "metadata": {},
   "outputs": [],
   "source": []
  },
  {
   "cell_type": "code",
   "execution_count": null,
   "metadata": {},
   "outputs": [],
   "source": []
  }
 ],
 "metadata": {
  "kernelspec": {
   "display_name": "Python 3",
   "language": "python",
   "name": "python3"
  },
  "language_info": {
   "codemirror_mode": {
    "name": "ipython",
    "version": 3
   },
   "file_extension": ".py",
   "mimetype": "text/x-python",
   "name": "python",
   "nbconvert_exporter": "python",
   "pygments_lexer": "ipython3",
   "version": "3.7.3"
  }
 },
 "nbformat": 4,
 "nbformat_minor": 2
}
